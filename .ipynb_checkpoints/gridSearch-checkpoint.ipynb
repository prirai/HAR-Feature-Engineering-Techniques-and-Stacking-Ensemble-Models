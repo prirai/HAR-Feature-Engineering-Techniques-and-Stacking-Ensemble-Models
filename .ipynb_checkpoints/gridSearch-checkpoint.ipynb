{
 "cells": [
  {
   "cell_type": "markdown",
   "id": "2210b6c1-8a27-4c7c-b1fd-838700bd866c",
   "metadata": {},
   "source": [
    "## Hyper-parameter tuning for classifiers used"
   ]
  },
  {
   "cell_type": "code",
   "execution_count": null,
   "id": "544cb3fc-2aeb-4fdb-a6ad-6948953ca082",
   "metadata": {},
   "outputs": [],
   "source": [
    "class Tee(object):\n",
    "    def __init__(self, *files):\n",
    "        self.files = files\n",
    "    def write(self, obj):\n",
    "        for f in self.files:\n",
    "            f.write(obj)\n",
    "            f.flush() # If you want the output to be visible immediately\n",
    "    def flush(self) :\n",
    "        for f in self.files:\n",
    "            f.flush()"
   ]
  },
  {
   "cell_type": "markdown",
   "id": "08e97a12-6093-4944-83aa-2590ce8ad156",
   "metadata": {},
   "source": [
    "The variance threshold can be changed using the below variable."
   ]
  },
  {
   "cell_type": "code",
   "execution_count": null,
   "id": "f41e4143-7044-4da2-8e2c-5e434d18be2f",
   "metadata": {},
   "outputs": [],
   "source": [
    "vt = 0.07"
   ]
  },
  {
   "cell_type": "code",
   "execution_count": null,
   "id": "a519ad0d-165b-4cef-9b6b-8689de33da4b",
   "metadata": {
    "id": "g-NFn_UOtuVE"
   },
   "outputs": [],
   "source": [
    "import pandas as pd\n",
    "import os, sys\n",
    "\n",
    "os.environ[\"PYTHONWARNINGS\"] = \"ignore::UserWarning\"\n",
    "\n",
    "df1 = pd.read_csv('data/train_data.csv')\n",
    "df2 = pd.read_csv('data/train_labels.csv')\n",
    "df = pd.merge(df1, df2, on='Unnamed: 0')\n",
    "df.shape"
   ]
  },
  {
   "cell_type": "code",
   "execution_count": null,
   "id": "2a0254e7-a338-4248-b75c-a0466fad816a",
   "metadata": {},
   "outputs": [],
   "source": [
    "df = df.drop(columns=['Unnamed: 0'])\n",
    "df.shape"
   ]
  },
  {
   "cell_type": "code",
   "execution_count": null,
   "id": "4438b72c-460c-40d4-8430-954c224e241a",
   "metadata": {},
   "outputs": [],
   "source": [
    "X = df.drop(['Activity'],axis=1)\n",
    "y = df['Activity']"
   ]
  },
  {
   "cell_type": "markdown",
   "id": "3d9c074c-4ac9-459b-bbf1-72de4cb4cc2f",
   "metadata": {},
   "source": [
    "## Preprocessing\n",
    "\n",
    "We now perform variance thresholding on the data and remove features having variance less than 0.8 as found out in a previous python script in `trial1`."
   ]
  },
  {
   "cell_type": "code",
   "execution_count": null,
   "id": "d38bdf11-96c6-4ccd-9b30-8ef9ceca7140",
   "metadata": {},
   "outputs": [],
   "source": [
    "from sklearn.feature_selection import VarianceThreshold\n",
    "\n",
    "selection = VarianceThreshold(threshold=(vt))    \n",
    "X = selection.fit_transform(X)"
   ]
  },
  {
   "cell_type": "code",
   "execution_count": null,
   "id": "f5d694bd-44fb-48c6-9669-c807d8aecff9",
   "metadata": {},
   "outputs": [],
   "source": [
    "from sklearn.model_selection import train_test_split\n",
    "\n",
    "X_train, X_test, y_train, y_test = train_test_split(X, y, stratify=y, test_size=0.2, random_state=42)"
   ]
  },
  {
   "cell_type": "code",
   "execution_count": null,
   "id": "9b569b11-202a-4c1a-a569-61545bffb6a6",
   "metadata": {},
   "outputs": [],
   "source": [
    "from sklearn.preprocessing import StandardScaler\n",
    "\n",
    "sc = StandardScaler()\n",
    "X_train = sc.fit_transform(X_train)\n",
    "X_test = sc.transform(X_test)"
   ]
  },
  {
   "cell_type": "markdown",
   "id": "0d9e6e5a-aacc-4b54-81de-525b10168ea8",
   "metadata": {},
   "source": [
    "## Classification"
   ]
  },
  {
   "cell_type": "code",
   "execution_count": null,
   "id": "c0f33b44-cf82-4469-972c-3f3d0382f7ed",
   "metadata": {
    "id": "Q8yCRtbQu5-F"
   },
   "outputs": [],
   "source": [
    "from sklearn.metrics import accuracy_score\n",
    "from sklearn.metrics import matthews_corrcoef\n",
    "from sklearn.metrics import f1_score\n",
    "from sklearn.metrics import ConfusionMatrixDisplay\n",
    "from sklearn.metrics import confusion_matrix\n",
    "\n",
    "from sklearn.neighbors import KNeighborsClassifier\n",
    "from sklearn.svm import SVC\n",
    "from sklearn.tree import DecisionTreeClassifier\n",
    "from sklearn.ensemble import RandomForestClassifier\n",
    "from sklearn.neural_network import MLPClassifier\n",
    "\n",
    "from sklearn.pipeline import Pipeline\n",
    "from sklearn.model_selection import GridSearchCV\n"
   ]
  },
  {
   "cell_type": "markdown",
   "id": "abf26387-71c3-4c23-9aeb-a6b299da5374",
   "metadata": {
    "id": "0UpZfDRyvb5t"
   },
   "source": [
    "## Build Classification models"
   ]
  },
  {
   "cell_type": "code",
   "execution_count": null,
   "id": "42518533-142b-4f5b-8c28-81b83d1041d8",
   "metadata": {},
   "outputs": [],
   "source": [
    "# Define the models to be evaluated\n",
    "models = {\n",
    "    'Decision Tree': DecisionTreeClassifier(),\n",
    "    'Random Forest': RandomForestClassifier(),\n",
    "    'SVM': SVC(),\n",
    "    'KNN': KNeighborsClassifier(),\n",
    "    'Neural Network': MLPClassifier()\n",
    "}\n",
    "\n",
    "# Define the hyperparameters to be tuned for each model\n",
    "hyperparameters = {\n",
    "    'Decision Tree': {\n",
    "        'model__max_depth': [None, 5, 10, 20], \n",
    "        'model__max_features': [100, 'sqrt', 'log2'], \n",
    "        'model__ccp_alpha': [0.1, .01, .001], \n",
    "        'model__criterion' :['gini', 'entropy', 'log_loss']\n",
    "    },\n",
    "    'Random Forest': {\n",
    "        'model__max_depth': [None, 5, 10, 20], \n",
    "        'model__max_features': [100, 'sqrt', 'log2'], \n",
    "        'model__ccp_alpha': [0.1, .01, .001], \n",
    "        'model__criterion' :['gini', 'entropy', 'log_loss']\n",
    "    },\n",
    "    'SVM': {\n",
    "        'model__C': [0.1, 0.5, 1, 5, 10, 50, 100], \n",
    "        'model__gamma': [1, 0.1, 0.01, 0.001, 0.0001, 'scale', 'auto'], \n",
    "        'model__kernel': ['linear', 'poly', 'rbf', 'sigmoid']\n",
    "    },\n",
    "    'KNN': {\n",
    "        'model__n_neighbors': [i for i in range(1, 200)], \n",
    "        'model__weights': ['uniform', 'distance']\n",
    "    },\n",
    "    'Neural Network': {\n",
    "        'model__max_iter': [500], \n",
    "        'model__hidden_layer_sizes': [(50,), (100,), (50, 50), (100, 100)], \n",
    "        'model__alpha': [0.0001, 0.001, 0.01], \n",
    "        'model__activation' : ['identity', 'logistic', 'tanh', 'relu'], \n",
    "        'model__solver' : ['lbfgs', 'sgd', 'adam']\n",
    "    }\n",
    "}"
   ]
  },
  {
   "cell_type": "code",
   "execution_count": null,
   "id": "d908164a-3db9-4041-a685-1918547c2224",
   "metadata": {},
   "outputs": [],
   "source": [
    "def evaluate_model(model_name, model, hyperparams):\n",
    "    print(f\"Evaluating {model_name}...\")\n",
    "    \n",
    "    pipeline = Pipeline([('model', model)])\n",
    "    # Perform grid search to tune hyperparameters\n",
    "    grid_search = GridSearchCV(pipeline, hyperparams, cv=10, n_jobs=-1, scoring='f1_macro', verbose=2)\n",
    "    \n",
    "    logfile = open('tune.tsv', 'w')\n",
    "    \n",
    "    original_stderr = sys.stderr\n",
    "    original_stdout = sys.stdout\n",
    "    sys.stdout = Tee(sys.stdout, logfile)\n",
    "    sys.stderr = sys.stdout\n",
    "\n",
    "    grid_search.fit(X_train, y_train)\n",
    "    \n",
    "    sys.stdout = original_stdout\n",
    "    sys.stderr = original_stderr\n",
    "    \n",
    "    logfile.close()\n",
    "    \n",
    "    print(f\"Best hyperparameters: {grid_search.best_params_}\")\n",
    "    print(f\"Training f1 score (macro): {grid_search.best_score_:.4f}\")\n",
    "    \n",
    "    test_f1 = grid_search.best_estimator_.score(X_test, y_test)\n",
    "    print(f\"Test F1 score (macro): {test_accuracy:.4f}\\n\")\n",
    "\n",
    "    # Test the model on the test set\n",
    "    y_pred = grid_search.predict(X_test)\n",
    "    test_f1 = f1_score(y_test, y_pred, average='macro')\n",
    "    print('Test F1 score (macro):', test_f1)\n",
    "    \n",
    "    return grid_search"
   ]
  },
  {
   "cell_type": "code",
   "execution_count": null,
   "id": "63f37b8e-6cee-4e9c-896a-32dbee718acf",
   "metadata": {},
   "outputs": [],
   "source": [
    "results = {}\n",
    "# done_models = ['Decision Tree', 'Random Forest', 'SVM', 'KNN']\n",
    "done_models = []\n",
    "for model_name, model in models.items():\n",
    "    if model_name in done_models:\n",
    "        continue\n",
    "    hyperparams = hyperparameters[model_name]\n",
    "    results[model_name] = evaluate_model(model_name, model, hyperparams)"
   ]
  },
  {
   "cell_type": "code",
   "execution_count": null,
   "id": "cbf32cf2-9263-432a-8a8e-35b960a0bb32",
   "metadata": {},
   "outputs": [],
   "source": [
    "print(results)"
   ]
  },
  {
   "cell_type": "markdown",
   "id": "e04925d9-9b6c-4473-a30e-5093ddca663e",
   "metadata": {},
   "source": [
    "## Results across various runs of GridSearchCV"
   ]
  },
  {
   "cell_type": "markdown",
   "id": "02bf532e-24c5-416d-ab11-13ee44576a54",
   "metadata": {},
   "source": [
    "## SVM\n",
    "```\n",
    "Evaluating SVM...\n",
    "Best hyperparameters: {'model__C': 100, 'model__gamma': 0.01, 'model__kernel': 'rbf'}\n",
    "Training F1 (macro): 0.9985\n",
    "Test F1 (macro): 0.9931\n",
    "```\n",
    "\n",
    "## k-NN\n",
    "```\n",
    "Evaluating KNN...\n",
    "Best hyperparameters: {'model__n_neighbors': 4, 'model__weights': 'distance'}\n",
    "Training f1 score (macro): 0.9691\n",
    "Test F1 score (macro): 0.9660\n",
    "```\n",
    "\n",
    "## MLP\n",
    "```\n",
    "Evaluating Neural Network...\n",
    "Fitting 5 folds for each of 756 candidates, totalling 3780 fits\n",
    "Best hyperparameters: {'model__activation': 'tanh', 'model__alpha': 0.0001, 'model__max_iter': 500, 'model__solver': 'adam'}\n",
    "Training f1 score (macro): 0.9870\n",
    "Test F1 score (macro): 0.9897\n",
    "```\n",
    "\n",
    "## DT\n",
    "```\n",
    "Evaluating Decision Tree...\n",
    "Fitting 10 folds for each of 108 candidates, totalling 1080 fits\n",
    "Best hyperparameters: {'model__ccp_alpha': 0.001, 'model__criterion': 'entropy', 'model__max_depth': None, 'model__max_features': 100}\n",
    "Training f1 score (macro): 0.9408\n",
    "Test F1 score (macro): 0.9399\n",
    "```\n",
    "\n",
    "## RF\n",
    "```\n",
    "Evaluating Random Forest...\n",
    "Fitting 10 folds for each of 108 candidates, totalling 1080 fits\n",
    "Best hyperparameters: {'model__ccp_alpha': 0.001, 'model__criterion': 'log_loss', 'model__max_depth': None, 'model__n_estimators': 500}\n",
    "Training f1 score (macro): 0.9753\n",
    "Test F1 score (macro): 0.9763\n",
    "```"
   ]
  }
 ],
 "metadata": {
  "kernelspec": {
   "display_name": "Python 3 (ipykernel)",
   "language": "python",
   "name": "python3"
  },
  "language_info": {
   "codemirror_mode": {
    "name": "ipython",
    "version": 3
   },
   "file_extension": ".py",
   "mimetype": "text/x-python",
   "name": "python",
   "nbconvert_exporter": "python",
   "pygments_lexer": "ipython3",
   "version": "3.10.10"
  }
 },
 "nbformat": 4,
 "nbformat_minor": 5
}
